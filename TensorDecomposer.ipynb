{
 "cells": [
  {
   "cell_type": "code",
   "execution_count": null,
   "id": "e99ee6a1",
   "metadata": {},
   "outputs": [],
   "source": [
    "import numpy as np\n",
    "import scipy as scp"
   ]
  },
  {
   "cell_type": "code",
   "execution_count": null,
   "id": "603d8587",
   "metadata": {},
   "outputs": [],
   "source": [
    "class TensorDecomposer:\n",
    "    \n",
    "    def __init__(self, psi, phys_dim, virt_dim=None):\n",
    "        self.psi = psi\n",
    "        self.pdim = phys_dim\n",
    "        \n",
    "        self.MPS, self.MPO = None, None\n",
    "        \n",
    "        sefl._estimate_sparsity()\n",
    "        self._decompose()\n",
    "        \n",
    "    @property\n",
    "    def svd(self):\n",
    "        return scp.sparse.svd(self.psi) if self.sparse else np.linalg.svd(self.psi)\n",
    "    \n",
    "    @property\n",
    "    def shuffle(self):\n",
    "        return np.transpose(self.psi, axes=self.axes)\n",
    "    \n",
    "    @property\n",
    "    def convert(self):\n",
    "        return scp.sparse.coo_matrix(self.psi)\n",
    "        \n",
    "    def _decompose(self):\n",
    "        if self.psi.ndim == 1:\n",
    "            sefl.get_MPS()\n",
    "        else:\n",
    "            self.get_MPO()\n",
    "\n",
    "    def _get_MPS(self):\n",
    "        pass\n",
    "    \n",
    "    def _get_MPO(self):\n",
    "        pass\n",
    "    \n",
    "    def _estimate_sparsity(self):\n",
    "        factor = abs((np.count_nonzero(self.psi) / self.psi.size) - 1) *100\n",
    "        if factor >= 40.:\n",
    "            self.sparse = True\n",
    "            self.psi.convert\n",
    "        else:\n",
    "            self.sparse = False"
   ]
  },
  {
   "cell_type": "code",
   "execution_count": null,
   "id": "6cbf308f",
   "metadata": {},
   "outputs": [],
   "source": [
    "if __name__ == \"__main__\":\n",
    "    \n",
    "    H = np.eye(10)\n",
    "    psi = np.ones(10)\n",
    "    \n",
    "    TensorDecomposer(H).MP0\n",
    "    TensorDecomposer(psi).MPS\n",
    "    "
   ]
  }
 ],
 "metadata": {
  "kernelspec": {
   "display_name": "Python 3 (ipykernel)",
   "language": "python",
   "name": "python3"
  },
  "language_info": {
   "codemirror_mode": {
    "name": "ipython",
    "version": 3
   },
   "file_extension": ".py",
   "mimetype": "text/x-python",
   "name": "python",
   "nbconvert_exporter": "python",
   "pygments_lexer": "ipython3",
   "version": "3.10.12"
  }
 },
 "nbformat": 4,
 "nbformat_minor": 5
}
